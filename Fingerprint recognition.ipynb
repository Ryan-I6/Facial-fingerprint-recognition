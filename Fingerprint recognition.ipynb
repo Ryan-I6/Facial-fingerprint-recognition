{
 "cells": [
  {
   "cell_type": "code",
   "execution_count": null,
   "id": "ec1136ae",
   "metadata": {},
   "outputs": [],
   "source": [
    "pip install opencv-python"
   ]
  },
  {
   "cell_type": "code",
   "execution_count": 3,
   "id": "0847c36c",
   "metadata": {},
   "outputs": [],
   "source": [
    "import os \n",
    "import cv2\n",
    "import random"
   ]
  },
  {
   "cell_type": "code",
   "execution_count": 4,
   "id": "1c1e0382",
   "metadata": {},
   "outputs": [],
   "source": [
    "sample = cv2.imread(\"DB2_B/101_7.tif\")\n",
    "sample = cv2.resize(sample, None, fx=1, fy=1)\n",
    "\n",
    "best_score = 0\n",
    "filename = None\n",
    "image = None\n",
    "\n",
    "kp1, kp2, mp = None, None, None\n"
   ]
  },
  {
   "cell_type": "code",
   "execution_count": null,
   "id": "e24c2101",
   "metadata": {},
   "outputs": [],
   "source": [
    "#1__M_Left_little_finger_CR.BMP"
   ]
  },
  {
   "cell_type": "code",
   "execution_count": 5,
   "id": "9193d9e7",
   "metadata": {},
   "outputs": [],
   "source": [
    "#sample = cv2.resize(sample, None, fx=2.5, fy=2.5)\n",
    "\n",
    "cv2.imshow(\"Sample 1\", sample)\n",
    "cv2.waitKey(0)\n",
    "cv2.destroyAllWindows()"
   ]
  },
  {
   "cell_type": "code",
   "execution_count": 6,
   "id": "1c28f31c",
   "metadata": {},
   "outputs": [
    {
     "name": "stdout",
     "output_type": "stream",
     "text": [
      "BEST MATCH: 101_7.tif\n",
      "MATCH SCORE: 100.0\n"
     ]
    }
   ],
   "source": [
    "for file in [file for file in os.listdir(\"DB2_B\")][:80]:\n",
    "    fingerprint_image = cv2.imread(\"dataset/DB2_B/\" + file)\n",
    "    sift = cv2.SIFT_create()\n",
    "    \n",
    "    keypoints_1, descriptors_1 = sift.detectAndCompute(sample, None)\n",
    "    keypoints_2, descriptors_2 = sift.detectAndCompute(fingerprint_image, None)\n",
    "    \n",
    "    matches = cv2.FlannBasedMatcher({\"algorithm\": 1, 'trees': 10},\n",
    "                                   {}).knnMatch(descriptors_1, descriptors_2, k=2)\n",
    "    \n",
    "    match_points = []\n",
    "    \n",
    "    for p, q in matches:\n",
    "        if p.distance < 0.1 * q.distance:\n",
    "            match_points.append(p)\n",
    "            \n",
    "    keypoints = 0\n",
    "    if len(keypoints_1) < len(keypoints_2):\n",
    "        keypoints = len(keypoints_1)\n",
    "    else:\n",
    "        keypoints = len(keypoints_2)\n",
    "        \n",
    "    if len(match_points) / keypoints * 100 > best_score:\n",
    "        best_score = len(match_points) / keypoints *100\n",
    "        filename = file\n",
    "        image = fingerprint_image\n",
    "        kp1, kp2, mp = keypoints_1, keypoints_2, match_points\n",
    "        \n",
    "print(\"BEST MATCH: \" + filename)\n",
    "print(\"MATCH SCORE: \" + str(best_score))\n",
    "\n",
    "result = cv2.drawMatches(sample, kp1, image, kp2, mp, None)\n",
    "result = cv2.resize(result, None,  fx= 1, fy= 1)\n",
    "cv2.imshow(\"Result\", result)\n",
    "cv2.waitKey(0)\n",
    "cv2.destroyAllWindows()\n",
    "    "
   ]
  }
 ],
 "metadata": {
  "kernelspec": {
   "display_name": "Python 3 (ipykernel)",
   "language": "python",
   "name": "python3"
  },
  "language_info": {
   "codemirror_mode": {
    "name": "ipython",
    "version": 3
   },
   "file_extension": ".py",
   "mimetype": "text/x-python",
   "name": "python",
   "nbconvert_exporter": "python",
   "pygments_lexer": "ipython3",
   "version": "3.9.7"
  }
 },
 "nbformat": 4,
 "nbformat_minor": 5
}
