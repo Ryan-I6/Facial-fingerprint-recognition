{
 "cells": [
  {
   "cell_type": "code",
   "execution_count": 9,
   "id": "af218bbb",
   "metadata": {},
   "outputs": [],
   "source": [
    "import cv2\n",
    "import face_recognition\n",
    "import sys"
   ]
  },
  {
   "cell_type": "code",
   "execution_count": 10,
   "id": "d17cff62",
   "metadata": {},
   "outputs": [],
   "source": [
    "def capture_image():\n",
    "    print(\"Identifying face...\")\n",
    "    cap = cv2.VideoCapture(0)\n",
    "    ret, frame=cap.read()\n",
    "    cv2.imwrite('Face.jpg', frame)\n",
    "    cv2.destroyAllWindows()\n",
    "    cap.release()\n",
    "    print(\"Complete\")"
   ]
  },
  {
   "cell_type": "code",
   "execution_count": 11,
   "id": "cbeca4f3",
   "metadata": {},
   "outputs": [],
   "source": [
    "def comparison():\n",
    "    print(\"Finding student...\")\n",
    "    baseimg = face_recognition.load_image_file(\"ME.jpeg\")\n",
    "    baseimg = cv2.cvtColor(baseimg, cv2.COLOR_BGR2RGB)\n",
    "    \n",
    "    myface = face_recognition.face_locations(baseimg)[0]\n",
    "    encodemyface = face_recognition.face_encodings(baseimg)[0]\n",
    "    cv2.rectangle(baseimg, (myface[3], myface[0]), (myface[1], myface[2]), (255, 0, 255), 2)\n",
    "    \n",
    "    #cv2.imshow(\"Test\", baseimg)\n",
    "    #cv2.waitKey(0)\n",
    "    \n",
    "    sampleing = face_recognition.load_image_file(\"Face.jpg\")\n",
    "    sampleing = cv2.cvtColor(sampleing, cv2.COLOR_BGR2RGB)\n",
    "    \n",
    "    \n",
    "    try:\n",
    "        samplefacetest = face_recognition.face_encodings(sampleing)[0]\n",
    "        encodesamplefacetest = face_recognition.face_encodings(sampleing)[0]\n",
    "    except IndexError as e:\n",
    "        print(\"Index Error: Authentication failed\")\n",
    "        sys.exit()\n",
    "        \n",
    "    result = face_recognition.compare_faces([encodemyface], encodesamplefacetest)\n",
    "    resultstring = str(result)\n",
    "    \n",
    "    if resultstring ==\"[True]\":\n",
    "        print(\"good to go\")\n",
    "    else:\n",
    "        print(\"Student not found\")"
   ]
  },
  {
   "cell_type": "code",
   "execution_count": 18,
   "id": "57726a0d",
   "metadata": {},
   "outputs": [],
   "source": [
    "faces = [\"cecil.jpg\",\"RyanS.jpeg\", \"Gary.jpeg\", \"Ryan Isaacs-202001716.jpeg\"  ]"
   ]
  },
  {
   "cell_type": "code",
   "execution_count": 19,
   "id": "5faf9415",
   "metadata": {},
   "outputs": [],
   "source": [
    "def ryan():\n",
    "    print(\"Name&Surname: Ryan Isaacs\")\n",
    "    print(\"Student Number: 202001716\")\n",
    "    print(\"Student Faculty: Natural and Applied sciences\")"
   ]
  },
  {
   "cell_type": "code",
   "execution_count": 20,
   "id": "0e330ccb",
   "metadata": {},
   "outputs": [],
   "source": [
    "def comparison():\n",
    "    for i in faces:\n",
    "        baseimg = face_recognition.load_image_file(i)\n",
    "        baseimg = cv2.cvtColor(baseimg, cv2.COLOR_BGR2RGB)\n",
    "    \n",
    "        myface = face_recognition.face_locations(baseimg)[0]\n",
    "        encodemyface = face_recognition.face_encodings(baseimg)[0]\n",
    "        cv2.rectangle(baseimg, (myface[3], myface[0]), (myface[1], myface[2]), (255, 0, 255), 2)\n",
    "    \n",
    "        #cv2.imshow(\"Test\", baseimg)\n",
    "        #cv2.waitKey(0)\n",
    "    \n",
    "        sampleing = face_recognition.load_image_file(\"Face.jpg\")\n",
    "        sampleing = cv2.cvtColor(sampleing, cv2.COLOR_BGR2RGB)\n",
    "    \n",
    "    \n",
    "        try:\n",
    "            samplefacetest = face_recognition.face_encodings(sampleing)[0]\n",
    "            encodesamplefacetest = face_recognition.face_encodings(sampleing)[0]\n",
    "        except IndexError as e:\n",
    "            print(\"Index Error: Authentication failed\")\n",
    "            sys.exit()\n",
    "        \n",
    "        result = face_recognition.compare_faces([encodemyface], encodesamplefacetest)\n",
    "        resultstring = str(result)\n",
    "    \n",
    "        if resultstring ==\"[True]\":\n",
    "            print(i)\n",
    "        else :\n",
    "            print (\"False\")"
   ]
  },
  {
   "cell_type": "code",
   "execution_count": 21,
   "id": "b1e0af93",
   "metadata": {},
   "outputs": [
    {
     "name": "stdout",
     "output_type": "stream",
     "text": [
      "Identifying face...\n",
      "Complete\n",
      "False\n",
      "RyanS.jpeg\n",
      "False\n",
      "Ryan Isaacs-202001716.jpeg\n"
     ]
    }
   ],
   "source": [
    "capture_image()\n",
    "comparison()"
   ]
  }
 ],
 "metadata": {
  "kernelspec": {
   "display_name": "Python 3 (ipykernel)",
   "language": "python",
   "name": "python3"
  },
  "language_info": {
   "codemirror_mode": {
    "name": "ipython",
    "version": 3
   },
   "file_extension": ".py",
   "mimetype": "text/x-python",
   "name": "python",
   "nbconvert_exporter": "python",
   "pygments_lexer": "ipython3",
   "version": "3.9.7"
  }
 },
 "nbformat": 4,
 "nbformat_minor": 5
}
